{
 "cells": [
  {
   "cell_type": "markdown",
   "metadata": {},
   "source": [
    "## ``Python`` i tabelarno zadati podaci\n",
    "\n",
    "     brzi prolaz kroz osnovne koncepte\n",
    "\n",
    "### biblioteka ``Pandas``"
   ]
  },
  {
   "cell_type": "markdown",
   "metadata": {},
   "source": [
    "Kada završim  <b>``Modula2``</b> naučiću:\n",
    "\n",
    "1. Šta su .csv fajlovi (<b>``.csv``</b>)\n",
    "\n",
    "2. Kako da učitaš podatke (<b>``biblioteka Pandas``, ``df.read_csv(\"ime.csv\")``</b>)\n",
    "\n",
    "3. Kako da prikažeš učitane podatke (tabelu) (<b>``navođenje imena``</b>)\n",
    "\n",
    "4. Kako podesiti koliko redova sa početka, odnosno kraja želimo da vidimo? (<b>``.head()``, ``.tail()``</b>)\n",
    "\n",
    "5. Kako pročitati format tabele? (<b>``.shape``</b>)\n",
    "\n",
    "6. Kako da izlistaš sva imena kolona tabele? (<b>``ime_tabele.columns``</b>)\n",
    "\n",
    "7. Kako da izdvojiš jednu kolonu. (<b>``ime_tabele[\"ime_kolone\"]``</b>)\n",
    "\n",
    "8. Kako da izlistaš sva imena vrsta tabele? (<b>``ime_tabele.index``</b>)\n",
    "\n",
    "9. Kako izdvojiti vrstu? (<b>``ime_tabele.loc[\"ime_vrste\"]``</b>)\n",
    "\n",
    "10. Kako izdvojiti više vrsta? \n",
    "\n",
    "11. Čemu služi .loc[] (pretraživanje tabele po ključu) (<b>``.loc[]``</b>)\n",
    "\n",
    "12. Čemu služi .iloc[] (pretraživanje tabele po poziciji) (<b>``.iloc[]``</b>)\n",
    "\n",
    "13. Šta je petlja for (koncept)? (<b>``for``</b>)\n",
    "\n",
    "14. Kako da napišeš funkciju (koncept)? (<b>``def``</b>)\n",
    "\n",
    "15. Grananje (koncept)(<b>``if``</b>)\n",
    "\n",
    "16. Sumiranje \n",
    "\n",
    "17. Filitriranje\n",
    "\n",
    "18. Grupisanje\n",
    "\n",
    "19. Vizuleno predstavljanje (biblioteka <b>``matplotlib.pyplot``</b>)"
   ]
  },
  {
   "cell_type": "code",
   "execution_count": 1,
   "metadata": {
    "scrolled": true
   },
   "outputs": [
    {
     "data": {
      "text/html": [
       "<div>\n",
       "<style scoped>\n",
       "    .dataframe tbody tr th:only-of-type {\n",
       "        vertical-align: middle;\n",
       "    }\n",
       "\n",
       "    .dataframe tbody tr th {\n",
       "        vertical-align: top;\n",
       "    }\n",
       "\n",
       "    .dataframe thead th {\n",
       "        text-align: right;\n",
       "    }\n",
       "</style>\n",
       "<table border=\"1\" class=\"dataframe\">\n",
       "  <thead>\n",
       "    <tr style=\"text-align: right;\">\n",
       "      <th></th>\n",
       "      <th>#</th>\n",
       "      <th>ИД установе</th>\n",
       "      <th>Власништво</th>\n",
       "      <th>Округ</th>\n",
       "      <th>Општина</th>\n",
       "      <th>Назив установе</th>\n",
       "      <th>Подручје рада</th>\n",
       "      <th>Образовни профил</th>\n",
       "      <th>Трајање образовања</th>\n",
       "      <th>Језик наставе</th>\n",
       "      <th>...</th>\n",
       "      <th>Број ИОП-а 2 - седми разред</th>\n",
       "      <th>Број ИОП-а 3 - седми разред</th>\n",
       "      <th>Број одељења - осми разред</th>\n",
       "      <th>Број комбинованих одељења - осми разред</th>\n",
       "      <th>Број специјалних одељења - осми разред</th>\n",
       "      <th>Број ученика - осми разред</th>\n",
       "      <th>Број девојчица - осми разред</th>\n",
       "      <th>Број ИОП-а 1 - осми разред</th>\n",
       "      <th>Број ИОП-а 2 - осми разред</th>\n",
       "      <th>Број ИОП-а 3 - осми разред</th>\n",
       "    </tr>\n",
       "  </thead>\n",
       "  <tbody>\n",
       "    <tr>\n",
       "      <th>0</th>\n",
       "      <td>1.0</td>\n",
       "      <td>1</td>\n",
       "      <td>Државно</td>\n",
       "      <td>Град Београд</td>\n",
       "      <td>Београд - Барајево</td>\n",
       "      <td>Павле Поповић</td>\n",
       "      <td>Основно редовно образовање</td>\n",
       "      <td>Основно образовање</td>\n",
       "      <td>8</td>\n",
       "      <td>Српски језик</td>\n",
       "      <td>...</td>\n",
       "      <td>2</td>\n",
       "      <td>2</td>\n",
       "      <td>3</td>\n",
       "      <td>0</td>\n",
       "      <td>0</td>\n",
       "      <td>59</td>\n",
       "      <td>31</td>\n",
       "      <td>2</td>\n",
       "      <td>1</td>\n",
       "      <td>0</td>\n",
       "    </tr>\n",
       "    <tr>\n",
       "      <th>1</th>\n",
       "      <td>2.0</td>\n",
       "      <td>2</td>\n",
       "      <td>Државно</td>\n",
       "      <td>Град Београд</td>\n",
       "      <td>Београд - Барајево</td>\n",
       "      <td>Кнез Сима Марковић</td>\n",
       "      <td>Основно редовно образовање</td>\n",
       "      <td>Основно образовање</td>\n",
       "      <td>8</td>\n",
       "      <td>Српски језик</td>\n",
       "      <td>...</td>\n",
       "      <td>0</td>\n",
       "      <td>0</td>\n",
       "      <td>8</td>\n",
       "      <td>0</td>\n",
       "      <td>0</td>\n",
       "      <td>170</td>\n",
       "      <td>92</td>\n",
       "      <td>6</td>\n",
       "      <td>0</td>\n",
       "      <td>0</td>\n",
       "    </tr>\n",
       "    <tr>\n",
       "      <th>2</th>\n",
       "      <td>3.0</td>\n",
       "      <td>3</td>\n",
       "      <td>Државно</td>\n",
       "      <td>Град Београд</td>\n",
       "      <td>Београд - Вождовац</td>\n",
       "      <td>Бора Станковић</td>\n",
       "      <td>Основно редовно образовање</td>\n",
       "      <td>Основно образовање</td>\n",
       "      <td>8</td>\n",
       "      <td>Српски језик</td>\n",
       "      <td>...</td>\n",
       "      <td>0</td>\n",
       "      <td>0</td>\n",
       "      <td>4</td>\n",
       "      <td>0</td>\n",
       "      <td>0</td>\n",
       "      <td>100</td>\n",
       "      <td>46</td>\n",
       "      <td>0</td>\n",
       "      <td>1</td>\n",
       "      <td>0</td>\n",
       "    </tr>\n",
       "    <tr>\n",
       "      <th>3</th>\n",
       "      <td>4.0</td>\n",
       "      <td>4</td>\n",
       "      <td>Државно</td>\n",
       "      <td>Град Београд</td>\n",
       "      <td>Београд - Вождовац</td>\n",
       "      <td>Змај Јова Јовановић</td>\n",
       "      <td>Основно редовно образовање</td>\n",
       "      <td>Основно образовање</td>\n",
       "      <td>8</td>\n",
       "      <td>Српски језик</td>\n",
       "      <td>...</td>\n",
       "      <td>0</td>\n",
       "      <td>0</td>\n",
       "      <td>6</td>\n",
       "      <td>1</td>\n",
       "      <td>1</td>\n",
       "      <td>108</td>\n",
       "      <td>42</td>\n",
       "      <td>2</td>\n",
       "      <td>2</td>\n",
       "      <td>0</td>\n",
       "    </tr>\n",
       "    <tr>\n",
       "      <th>4</th>\n",
       "      <td>5.0</td>\n",
       "      <td>5</td>\n",
       "      <td>Државно</td>\n",
       "      <td>Град Београд</td>\n",
       "      <td>Београд - Вождовац</td>\n",
       "      <td>Ђура Даничић</td>\n",
       "      <td>Основно редовно образовање</td>\n",
       "      <td>Основно образовање</td>\n",
       "      <td>8</td>\n",
       "      <td>Српски језик</td>\n",
       "      <td>...</td>\n",
       "      <td>0</td>\n",
       "      <td>0</td>\n",
       "      <td>3</td>\n",
       "      <td>0</td>\n",
       "      <td>0</td>\n",
       "      <td>74</td>\n",
       "      <td>36</td>\n",
       "      <td>1</td>\n",
       "      <td>2</td>\n",
       "      <td>0</td>\n",
       "    </tr>\n",
       "    <tr>\n",
       "      <th>...</th>\n",
       "      <td>...</td>\n",
       "      <td>...</td>\n",
       "      <td>...</td>\n",
       "      <td>...</td>\n",
       "      <td>...</td>\n",
       "      <td>...</td>\n",
       "      <td>...</td>\n",
       "      <td>...</td>\n",
       "      <td>...</td>\n",
       "      <td>...</td>\n",
       "      <td>...</td>\n",
       "      <td>...</td>\n",
       "      <td>...</td>\n",
       "      <td>...</td>\n",
       "      <td>...</td>\n",
       "      <td>...</td>\n",
       "      <td>...</td>\n",
       "      <td>...</td>\n",
       "      <td>...</td>\n",
       "      <td>...</td>\n",
       "      <td>...</td>\n",
       "    </tr>\n",
       "    <tr>\n",
       "      <th>1418</th>\n",
       "      <td>1419.0</td>\n",
       "      <td>1850</td>\n",
       "      <td>Државно</td>\n",
       "      <td>Рашки управни округ</td>\n",
       "      <td>Нови Пазар - град</td>\n",
       "      <td>ОШ Мур</td>\n",
       "      <td>Основно редовно образовање</td>\n",
       "      <td>Основно образовање</td>\n",
       "      <td>8</td>\n",
       "      <td>Босански језик</td>\n",
       "      <td>...</td>\n",
       "      <td>0</td>\n",
       "      <td>0</td>\n",
       "      <td>3</td>\n",
       "      <td>0</td>\n",
       "      <td>0</td>\n",
       "      <td>88</td>\n",
       "      <td>49</td>\n",
       "      <td>1</td>\n",
       "      <td>0</td>\n",
       "      <td>0</td>\n",
       "    </tr>\n",
       "    <tr>\n",
       "      <th>1419</th>\n",
       "      <td>1420.0</td>\n",
       "      <td>1850</td>\n",
       "      <td>Државно</td>\n",
       "      <td>Рашки управни округ</td>\n",
       "      <td>Нови Пазар - град</td>\n",
       "      <td>ОШ Мур</td>\n",
       "      <td>Основно редовно образовање</td>\n",
       "      <td>Основно образовање</td>\n",
       "      <td>8</td>\n",
       "      <td>Српски језик</td>\n",
       "      <td>...</td>\n",
       "      <td>0</td>\n",
       "      <td>0</td>\n",
       "      <td>0</td>\n",
       "      <td>0</td>\n",
       "      <td>0</td>\n",
       "      <td>0</td>\n",
       "      <td>0</td>\n",
       "      <td>0</td>\n",
       "      <td>0</td>\n",
       "      <td>0</td>\n",
       "    </tr>\n",
       "    <tr>\n",
       "      <th>1420</th>\n",
       "      <td>1421.0</td>\n",
       "      <td>1851</td>\n",
       "      <td>Државно</td>\n",
       "      <td>Рашки управни округ</td>\n",
       "      <td>Нови Пазар - град</td>\n",
       "      <td>Ћамил Сијарић</td>\n",
       "      <td>Основно редовно образовање</td>\n",
       "      <td>Основно образовање</td>\n",
       "      <td>8</td>\n",
       "      <td>Босански језик</td>\n",
       "      <td>...</td>\n",
       "      <td>0</td>\n",
       "      <td>0</td>\n",
       "      <td>2</td>\n",
       "      <td>0</td>\n",
       "      <td>0</td>\n",
       "      <td>41</td>\n",
       "      <td>22</td>\n",
       "      <td>0</td>\n",
       "      <td>0</td>\n",
       "      <td>0</td>\n",
       "    </tr>\n",
       "    <tr>\n",
       "      <th>1421</th>\n",
       "      <td>1422.0</td>\n",
       "      <td>1851</td>\n",
       "      <td>Државно</td>\n",
       "      <td>Рашки управни округ</td>\n",
       "      <td>Нови Пазар - град</td>\n",
       "      <td>Ћамил Сијарић</td>\n",
       "      <td>Основно редовно образовање</td>\n",
       "      <td>Основно образовање</td>\n",
       "      <td>8</td>\n",
       "      <td>Српски језик</td>\n",
       "      <td>...</td>\n",
       "      <td>0</td>\n",
       "      <td>0</td>\n",
       "      <td>3</td>\n",
       "      <td>0</td>\n",
       "      <td>0</td>\n",
       "      <td>70</td>\n",
       "      <td>39</td>\n",
       "      <td>0</td>\n",
       "      <td>0</td>\n",
       "      <td>0</td>\n",
       "    </tr>\n",
       "    <tr>\n",
       "      <th>1422</th>\n",
       "      <td>1423.0</td>\n",
       "      <td>1852</td>\n",
       "      <td>Државно</td>\n",
       "      <td>Рашки управни округ</td>\n",
       "      <td>Нови Пазар - град</td>\n",
       "      <td>Меша Селимовић</td>\n",
       "      <td>Основно редовно образовање</td>\n",
       "      <td>Основно образовање</td>\n",
       "      <td>8</td>\n",
       "      <td>Српски језик</td>\n",
       "      <td>...</td>\n",
       "      <td>0</td>\n",
       "      <td>0</td>\n",
       "      <td>3</td>\n",
       "      <td>0</td>\n",
       "      <td>0</td>\n",
       "      <td>79</td>\n",
       "      <td>32</td>\n",
       "      <td>0</td>\n",
       "      <td>0</td>\n",
       "      <td>0</td>\n",
       "    </tr>\n",
       "  </tbody>\n",
       "</table>\n",
       "<p>1423 rows × 74 columns</p>\n",
       "</div>"
      ],
      "text/plain": [
       "           #  ИД установе Власништво                Округ             Општина  \\\n",
       "0        1.0            1    Државно         Град Београд  Београд - Барајево   \n",
       "1        2.0            2    Државно         Град Београд  Београд - Барајево   \n",
       "2        3.0            3    Државно         Град Београд  Београд - Вождовац   \n",
       "3        4.0            4    Државно         Град Београд  Београд - Вождовац   \n",
       "4        5.0            5    Државно         Град Београд  Београд - Вождовац   \n",
       "...      ...          ...        ...                  ...                 ...   \n",
       "1418  1419.0         1850    Државно  Рашки управни округ   Нови Пазар - град   \n",
       "1419  1420.0         1850    Државно  Рашки управни округ   Нови Пазар - град   \n",
       "1420  1421.0         1851    Државно  Рашки управни округ   Нови Пазар - град   \n",
       "1421  1422.0         1851    Државно  Рашки управни округ   Нови Пазар - град   \n",
       "1422  1423.0         1852    Државно  Рашки управни округ   Нови Пазар - град   \n",
       "\n",
       "           Назив установе               Подручје рада    Образовни профил  \\\n",
       "0           Павле Поповић  Основно редовно образовање  Основно образовање   \n",
       "1      Кнез Сима Марковић  Основно редовно образовање  Основно образовање   \n",
       "2          Бора Станковић  Основно редовно образовање  Основно образовање   \n",
       "3     Змај Јова Јовановић  Основно редовно образовање  Основно образовање   \n",
       "4            Ђура Даничић  Основно редовно образовање  Основно образовање   \n",
       "...                   ...                         ...                 ...   \n",
       "1418               ОШ Мур  Основно редовно образовање  Основно образовање   \n",
       "1419               ОШ Мур  Основно редовно образовање  Основно образовање   \n",
       "1420        Ћамил Сијарић  Основно редовно образовање  Основно образовање   \n",
       "1421        Ћамил Сијарић  Основно редовно образовање  Основно образовање   \n",
       "1422       Меша Селимовић  Основно редовно образовање  Основно образовање   \n",
       "\n",
       "      Трајање образовања   Језик наставе  ...  Број ИОП-а 2 - седми разред  \\\n",
       "0                      8    Српски језик  ...                            2   \n",
       "1                      8    Српски језик  ...                            0   \n",
       "2                      8    Српски језик  ...                            0   \n",
       "3                      8    Српски језик  ...                            0   \n",
       "4                      8    Српски језик  ...                            0   \n",
       "...                  ...             ...  ...                          ...   \n",
       "1418                   8  Босански језик  ...                            0   \n",
       "1419                   8    Српски језик  ...                            0   \n",
       "1420                   8  Босански језик  ...                            0   \n",
       "1421                   8    Српски језик  ...                            0   \n",
       "1422                   8    Српски језик  ...                            0   \n",
       "\n",
       "      Број ИОП-а 3 - седми разред  Број одељења - осми разред  \\\n",
       "0                               2                           3   \n",
       "1                               0                           8   \n",
       "2                               0                           4   \n",
       "3                               0                           6   \n",
       "4                               0                           3   \n",
       "...                           ...                         ...   \n",
       "1418                            0                           3   \n",
       "1419                            0                           0   \n",
       "1420                            0                           2   \n",
       "1421                            0                           3   \n",
       "1422                            0                           3   \n",
       "\n",
       "      Број комбинованих одељења - осми разред  \\\n",
       "0                                           0   \n",
       "1                                           0   \n",
       "2                                           0   \n",
       "3                                           1   \n",
       "4                                           0   \n",
       "...                                       ...   \n",
       "1418                                        0   \n",
       "1419                                        0   \n",
       "1420                                        0   \n",
       "1421                                        0   \n",
       "1422                                        0   \n",
       "\n",
       "      Број специјалних одељења - осми разред  Број ученика - осми разред  \\\n",
       "0                                          0                          59   \n",
       "1                                          0                         170   \n",
       "2                                          0                         100   \n",
       "3                                          1                         108   \n",
       "4                                          0                          74   \n",
       "...                                      ...                         ...   \n",
       "1418                                       0                          88   \n",
       "1419                                       0                           0   \n",
       "1420                                       0                          41   \n",
       "1421                                       0                          70   \n",
       "1422                                       0                          79   \n",
       "\n",
       "      Број девојчица - осми разред  Број ИОП-а 1 - осми разред  \\\n",
       "0                               31                           2   \n",
       "1                               92                           6   \n",
       "2                               46                           0   \n",
       "3                               42                           2   \n",
       "4                               36                           1   \n",
       "...                            ...                         ...   \n",
       "1418                            49                           1   \n",
       "1419                             0                           0   \n",
       "1420                            22                           0   \n",
       "1421                            39                           0   \n",
       "1422                            32                           0   \n",
       "\n",
       "      Број ИОП-а 2 - осми разред  Број ИОП-а 3 - осми разред  \n",
       "0                              1                           0  \n",
       "1                              0                           0  \n",
       "2                              1                           0  \n",
       "3                              2                           0  \n",
       "4                              2                           0  \n",
       "...                          ...                         ...  \n",
       "1418                           0                           0  \n",
       "1419                           0                           0  \n",
       "1420                           0                           0  \n",
       "1421                           0                           0  \n",
       "1422                           0                           0  \n",
       "\n",
       "[1423 rows x 74 columns]"
      ]
     },
     "execution_count": 1,
     "metadata": {},
     "output_type": "execute_result"
    }
   ],
   "source": [
    "#Kako da učitamo podatke?\n",
    "import pandas as pd\n",
    "t = pd.read_csv('skole.csv')\n",
    "#Šta je .csv fajl?\n",
    "t"
   ]
  },
  {
   "cell_type": "code",
   "execution_count": 7,
   "metadata": {},
   "outputs": [
    {
     "data": {
      "text/plain": [
       "0       265\n",
       "1       666\n",
       "2       458\n",
       "3       462\n",
       "4       386\n",
       "       ... \n",
       "1418    325\n",
       "1419     13\n",
       "1420    133\n",
       "1421    238\n",
       "1422    305\n",
       "Length: 1423, dtype: int64"
      ]
     },
     "execution_count": 7,
     "metadata": {},
     "output_type": "execute_result"
    }
   ],
   "source": [
    "a = t['Број ученика - четврти разред']+t['Број ученика - први разред']+t['Број ученика - други разред']+t['Број ученика - трећи разред']\n",
    "a\n",
    "\n",
    "#t.columns"
   ]
  },
  {
   "cell_type": "code",
   "execution_count": null,
   "metadata": {},
   "outputs": [],
   "source": [
    "#Šta ovde vidimo? Samo početak i kraj!\n",
    "#Šta ako želim da vidim prvih 20 redova tabele?\n",
    "t.head(5)"
   ]
  },
  {
   "cell_type": "code",
   "execution_count": null,
   "metadata": {},
   "outputs": [],
   "source": [
    "#Šta ako želim da vidim poslednjih 20 redova tabele?\n",
    "t.tail(5)"
   ]
  },
  {
   "cell_type": "code",
   "execution_count": null,
   "metadata": {},
   "outputs": [],
   "source": [
    "#Format tabele (broj vrtsa i kolona) nam nekada može zatrebati.\n",
    "t.shape"
   ]
  },
  {
   "cell_type": "code",
   "execution_count": null,
   "metadata": {},
   "outputs": [],
   "source": [
    "#Možemo li iz velike tabele izvući samo deo? Da!\n",
    "#Kako da znaš kako se zovu kolone tabele?\n",
    "t.columns"
   ]
  },
  {
   "cell_type": "code",
   "execution_count": null,
   "metadata": {},
   "outputs": [],
   "source": [
    "#Kako ispisati imena svih vrsta? Prez! Ovde su indeksi automatski podešeni od 0 do 1423, sa korakom 1. \n",
    "t.index"
   ]
  },
  {
   "cell_type": "code",
   "execution_count": null,
   "metadata": {},
   "outputs": [],
   "source": [
    "#Kako da izdvojimo jednu koloku?\n",
    "t['Назив установе']\n",
    "#Izdvojio si nazive svih škola."
   ]
  },
  {
   "cell_type": "code",
   "execution_count": null,
   "metadata": {},
   "outputs": [],
   "source": []
  },
  {
   "cell_type": "code",
   "execution_count": null,
   "metadata": {},
   "outputs": [],
   "source": [
    "#Kako izdvojiti istovremeno više kolona?\n",
    "t[['Назив установе','Трајање образовања','Подручје рада']]"
   ]
  },
  {
   "cell_type": "code",
   "execution_count": null,
   "metadata": {},
   "outputs": [],
   "source": [
    "type(t[['Назив установе','Трајање образовања','Подручје рада']])"
   ]
  },
  {
   "cell_type": "markdown",
   "metadata": {},
   "source": [
    "### .loc[ ] za pretraživanje tabele po ključu!"
   ]
  },
  {
   "cell_type": "code",
   "execution_count": null,
   "metadata": {},
   "outputs": [],
   "source": [
    "#Kako izdvojiti prvu vrstu? \n",
    "t.loc[0]"
   ]
  },
  {
   "cell_type": "code",
   "execution_count": null,
   "metadata": {},
   "outputs": [],
   "source": [
    "#Kako izdvojiti devetu vrstu?\n",
    "t.loc[8]"
   ]
  },
  {
   "cell_type": "markdown",
   "metadata": {},
   "source": [
    "### Vežba:\n"
   ]
  },
  {
   "cell_type": "markdown",
   "metadata": {},
   "source": [
    "<b>Izdvoj 12. vrstu tabele t.</b>"
   ]
  },
  {
   "cell_type": "code",
   "execution_count": null,
   "metadata": {},
   "outputs": [],
   "source": []
  },
  {
   "cell_type": "markdown",
   "metadata": {},
   "source": [
    "### Indeksiranje\n",
    "\n",
    "#### počinje od nule!!!"
   ]
  },
  {
   "cell_type": "markdown",
   "metadata": {},
   "source": [
    "``.loc[]`` ima dva argumenta (vrste, kolone)"
   ]
  },
  {
   "cell_type": "code",
   "execution_count": null,
   "metadata": {},
   "outputs": [],
   "source": [
    "#Kako izdvojiti od prve do devete vrste?\n",
    "t.loc[0:8, :]"
   ]
  },
  {
   "cell_type": "code",
   "execution_count": null,
   "metadata": {},
   "outputs": [],
   "source": [
    "#Kako izdvojiti \"od do vrste\" i \"od do kolone\"?\n",
    "t.loc[0:8, 'Власништво':'Језик наставе']\n",
    "#Vidimo samo deo tabele"
   ]
  },
  {
   "cell_type": "code",
   "execution_count": null,
   "metadata": {},
   "outputs": [],
   "source": [
    "#Ispis savake 100. vrste  \n",
    "t.loc[::100]"
   ]
  },
  {
   "cell_type": "code",
   "execution_count": null,
   "metadata": {},
   "outputs": [],
   "source": [
    "t.loc[::150,'#':'Назив установе']"
   ]
  },
  {
   "cell_type": "markdown",
   "metadata": {},
   "source": [
    "### Vežba:"
   ]
  },
  {
   "cell_type": "markdown",
   "metadata": {},
   "source": [
    "<b> Prikazati za prvi razred sve podatke za svaku 150. školu.</b>"
   ]
  },
  {
   "cell_type": "code",
   "execution_count": null,
   "metadata": {},
   "outputs": [],
   "source": [
    "#t.columns"
   ]
  },
  {
   "cell_type": "code",
   "execution_count": null,
   "metadata": {},
   "outputs": [],
   "source": [
    "t.loc[::150, \"ИД установе\":\"Број ИОП-а 3 - први разред\"]"
   ]
  },
  {
   "cell_type": "markdown",
   "metadata": {},
   "source": [
    "## Shibuya, Tokio:: ili zašto je dobro znati petlje?¶"
   ]
  },
  {
   "cell_type": "markdown",
   "metadata": {},
   "source": [
    "<img src = \"simbuja.jpg\">"
   ]
  },
  {
   "cell_type": "markdown",
   "metadata": {},
   "source": [
    ",knsef,nd,gjkldf"
   ]
  },
  {
   "cell_type": "markdown",
   "metadata": {},
   "source": [
    "Umemo li da na osnovu neke slike, na kojoj nije baš lako prebrojati ljude, procenimo broj \n",
    "ljudi na istoj toj slici? Naravno da, da! \n",
    "U nastavku se nalazi kratak film o pešačkom prelazu, koji drugačije nazivaju \"košnica\". "
   ]
  },
  {
   "cell_type": "markdown",
   "metadata": {},
   "source": [
    "[![](https://res.cloudinary.com/marcomontalbano/image/upload/v1580683254/video_to_markdown/images/youtube--Od6EeCWytZo-c05b58ac6eb4c4700831b2b3070cd403.jpg)](https://youtu.be/Od6EeCWytZo \"\")"
   ]
  },
  {
   "cell_type": "markdown",
   "metadata": {},
   "source": [
    "Pozabavimo se ovom slikom! Koliko ljudi se u ovom trenutku nalazi upravo na ovoj raskrsnici? \n",
    "Slika je napravljena iz videa, koji se nalazi iznad. "
   ]
  },
  {
   "cell_type": "markdown",
   "metadata": {},
   "source": [
    "<img src=\"slika_1.png\">"
   ]
  },
  {
   "cell_type": "markdown",
   "metadata": {},
   "source": [
    "Proceniti broj ljudi na nekoj slici, nije previše komplikovano. Bitno je da znamo nekoliko podataka. Za početak dimenzije slike u pikselima, da se opredelimo za veličinu kvadrata (opet izraženu u pikselima) koju ćemo nasumično \"razbacati po slici\" i potruditi se da što bolje procenimo koliko ljudi ima u tako razbacanim kvadratima. Veći broj razbacanih kvadrata i preciznije brojanje ljudi u njima, daje nam preciznost prilikom izvođenja zaključka koliko ljudi se nalazi na nekoj slici. "
   ]
  },
  {
   "cell_type": "markdown",
   "metadata": {},
   "source": [
    "Hajde sada da zapamtimo koliko ljudi ima u svakoj od kvadrata na slici:\n",
    "\n",
    "broj_ljudi = [0,1,2,3,4,5,6,7,8,9,10,11,9,8,6,8,9, 8, 9, 9, 10, 9]."
   ]
  },
  {
   "cell_type": "code",
   "execution_count": null,
   "metadata": {},
   "outputs": [],
   "source": [
    "import pandas as pd\n",
    "#Ovde ćemo da napravimo praznu tabelu u koju ćemo da unesemo podatke o broju ljudi \n",
    "#na slici za koju želimo da procenimo koliko ima ljudi.\n",
    "tabela = pd.DataFrame()"
   ]
  },
  {
   "cell_type": "code",
   "execution_count": null,
   "metadata": {},
   "outputs": [],
   "source": [
    "#ispišimo ovu tabelu\n",
    "tabela"
   ]
  },
  {
   "cell_type": "code",
   "execution_count": null,
   "metadata": {},
   "outputs": [],
   "source": [
    "#Dodajmo podatke u tabelu koju smo napravili.\n",
    "tabela[\"prebrojano\"] = [0,1,2,3,4,5,6,7,8,9,10,11,9,8,6,8,9,8,9,9,10,9]\n",
    "#izracunajmo prosecnu vrednost\n",
    "tabela.mean()\n",
    "#Šta ovo znači?\n",
    "#Ovo znači da je na svakom uočenom kvadratu na slici izbrojano u proseku 8 ljudi."
   ]
  },
  {
   "cell_type": "code",
   "execution_count": null,
   "metadata": {},
   "outputs": [],
   "source": [
    "#Dimenzije slike označimo sa w i h. Neka je a dužina stranice malog kvadrata. Sve je izraženo u pikselima.\n",
    "#U nastavku je procena broja ljudi na slici! Broj ljudi na slici dobijamo kao odnos površina slike i \n",
    "#kvadrata, prema odnosu broja ljudi na slici i malom kvadratu.\n",
    "w, h, a = 1000, 600, 50\n",
    "\n",
    "prosek = tabela.mean()\n",
    "prosek * w * h / a**2"
   ]
  },
  {
   "cell_type": "markdown",
   "metadata": {},
   "source": [
    "Kada je naša procena bolja?"
   ]
  },
  {
   "cell_type": "markdown",
   "metadata": {},
   "source": [
    "Kod ovakvog vida procene, bitno je imati što više malih kvadrata nasumično razbacanih po slici na kojima brojimo \n",
    "osobe. Što je više malih kvadrata, procena je preciznija. Hajde da variramo vrednosti u zavisnosti od broja malih kvadrata:"
   ]
  },
  {
   "cell_type": "code",
   "execution_count": null,
   "metadata": {},
   "outputs": [],
   "source": [
    "#procenjujemo na osnovu prva 4 prebrojavanja\n",
    "tabela.loc[:4,'prebrojano'].mean()"
   ]
  },
  {
   "cell_type": "code",
   "execution_count": null,
   "metadata": {},
   "outputs": [],
   "source": [
    "#procenjujemo na osnovu prvih 11 prebrojavanja\n",
    "tabela.loc[:6,'prebrojano'].mean()"
   ]
  },
  {
   "cell_type": "markdown",
   "metadata": {},
   "source": [
    "Zamislite da imate 10 000 malih kvadrata! Ovakav vid procene nikako ne bi bio prihvatljiv. Zato ćemo uvesti petlju ``for``."
   ]
  },
  {
   "cell_type": "code",
   "execution_count": null,
   "metadata": {},
   "outputs": [],
   "source": [
    "for i in [0,1,2,3,4,5,6,7,8,9,10,11,12,13,13,15,16,17,18,19,20,21]:\n",
    "    prosek = tabela.loc[0:i,'prebrojano'].mean()\n",
    "    print(prosek * w * h / a**2 )"
   ]
  },
  {
   "cell_type": "markdown",
   "metadata": {},
   "source": [
    "``range(n)`` generiše brojeve od 0 do n."
   ]
  },
  {
   "cell_type": "code",
   "execution_count": null,
   "metadata": {},
   "outputs": [],
   "source": [
    "for i in range(21):\n",
    "    prosek = tabela.loc[0:i,'prebrojano'].mean()\n",
    "    print(prosek * w * h / a**2 )"
   ]
  },
  {
   "cell_type": "markdown",
   "metadata": {},
   "source": [
    "### Funkcije ili kako skratiti pisanje koda"
   ]
  },
  {
   "cell_type": "markdown",
   "metadata": {},
   "source": [
    "Primetimo da smo formulu po kojoj računamo prosečan broj ljudi na slici kopirali nekoliko puta, hajde da to izbegnemo!\n"
   ]
  },
  {
   "cell_type": "code",
   "execution_count": null,
   "metadata": {},
   "outputs": [],
   "source": [
    "def prosek(visina, sirina, stranica, prosek):\n",
    "    return prosek * visina * sirina / stranica**2"
   ]
  },
  {
   "cell_type": "code",
   "execution_count": null,
   "metadata": {},
   "outputs": [],
   "source": [
    "def suma(a,b,c):\n",
    "    return a+b+c\n",
    "x=suma(2,3,7)\n",
    "x"
   ]
  },
  {
   "cell_type": "markdown",
   "metadata": {},
   "source": [
    "Sada umesto formule, možemo da pozivamo funkciju ``prosek()``. Prethodni primer bio bi:"
   ]
  },
  {
   "cell_type": "code",
   "execution_count": null,
   "metadata": {},
   "outputs": [],
   "source": [
    "for i in range(21):\n",
    "    pr = tabela.loc[0:i,'prebrojano'].mean()\n",
    "    print(round(prosek(w, h, a, pr),2))"
   ]
  },
  {
   "cell_type": "markdown",
   "metadata": {},
   "source": [
    "Zaokruživanje: ``round(broj, n_decimala)``"
   ]
  },
  {
   "cell_type": "code",
   "execution_count": null,
   "metadata": {},
   "outputs": [],
   "source": [
    "#Formatiranje"
   ]
  },
  {
   "cell_type": "markdown",
   "metadata": {},
   "source": [
    "### Vežba"
   ]
  },
  {
   "cell_type": "markdown",
   "metadata": {},
   "source": [
    "<b>Data je slika Central parka i okolnih zgrada (1000 x 450). \n",
    "Iscrtati na osnovu procene broja zgrada na nekoliko nasumimično izabranim kvadratima dimenzije\n",
    "50 x 50 piksela, proceniti koliko se zgrada nalazi na ovoj slici. Dimenzije samog parka su 600 x 180 piksela.\n",
    "Mogu se posmatrati i delovi slike.\n",
    "</b>"
   ]
  },
  {
   "cell_type": "markdown",
   "metadata": {},
   "source": [
    "<img src = \"slika_njujork.jpg\">"
   ]
  },
  {
   "cell_type": "markdown",
   "metadata": {},
   "source": [
    "### Kursna lista"
   ]
  },
  {
   "cell_type": "code",
   "execution_count": null,
   "metadata": {},
   "outputs": [],
   "source": [
    "#napravimo jednu tabelu sa kursnom listom\n",
    "tb= pd.DataFrame([[117.608,\"EUR\"],\n",
    "                 [138.689 ,\"GBP\"],\n",
    "                 [109.925  ,\"CHF\"],\n",
    "                 [ 106.549, \"USD\"]],columns = [\"kurs\",\"valuta\"])\n",
    "tb"
   ]
  },
  {
   "cell_type": "code",
   "execution_count": null,
   "metadata": {},
   "outputs": [],
   "source": [
    "#Kako ispisujemo?\n",
    "for i in tb.index:\n",
    "    print(tb.loc[i,'kurs'],tb.loc[i,'valuta'])"
   ]
  },
  {
   "cell_type": "code",
   "execution_count": null,
   "metadata": {},
   "outputs": [],
   "source": [
    "#Zanimaju nas sve valute čiji je kurs veći od 110. Izdvojiti ih!\n",
    "for i in t.index:\n",
    "    if t.loc[i,'kurs'] > 110.0:\n",
    "        print(t.loc[i,'valuta'])\n"
   ]
  },
  {
   "cell_type": "markdown",
   "metadata": {},
   "source": [
    "## Grananje"
   ]
  },
  {
   "cell_type": "markdown",
   "metadata": {},
   "source": [
    "``if uslov:``\n",
    "    \n",
    "    naredba1\n",
    "    \n",
    "    naredba2"
   ]
  },
  {
   "cell_type": "markdown",
   "metadata": {},
   "source": [
    "``if uslov:``\n",
    "    \n",
    "    naredba1\n",
    "    \n",
    "    naredba2\n",
    "    ....\n",
    "``else:``\n",
    "    \n",
    "    naredbak1\n",
    "    \n",
    "    naredbak2\n",
    "    ....\n"
   ]
  },
  {
   "cell_type": "markdown",
   "metadata": {},
   "source": [
    "### Vežba"
   ]
  },
  {
   "cell_type": "code",
   "execution_count": null,
   "metadata": {},
   "outputs": [],
   "source": [
    "U menjačnici se nalaze određeni novčani iznosi u devizama. Iznosi su dati u tabeli. \n",
    "Odrediti kolika je količina novca u menjačnici u dinarima."
   ]
  },
  {
   "cell_type": "code",
   "execution_count": null,
   "metadata": {},
   "outputs": [],
   "source": [
    "#kombinovanje više uslova "
   ]
  },
  {
   "cell_type": "code",
   "execution_count": null,
   "metadata": {},
   "outputs": [],
   "source": [
    "#Stanje u menjačnici trenutno\n",
    "t = pd.DataFrame([[12020,\"EUR\", 117.608],\n",
    "                 [2300 ,\"GBP\", 138.689],\n",
    "                 [3400  ,\"CHF\", 109.925],\n",
    "                 [ 5000, \"USD\", 106.549]],columns = [\"iznos\",\"valuta\", \"kurs\"])\n",
    "t"
   ]
  },
  {
   "cell_type": "code",
   "execution_count": null,
   "metadata": {},
   "outputs": [],
   "source": [
    "s = 0\n",
    "for i in t.index:\n",
    "    s = s + t.loc[i,\"kurs\"] * t.loc[i, \"iznos\"]\n",
    "print(\"U menjačnici je: \",round(s,2) ,\" dinara.\")"
   ]
  },
  {
   "cell_type": "markdown",
   "metadata": {},
   "source": [
    "### Može li drugačije?"
   ]
  },
  {
   "cell_type": "markdown",
   "metadata": {},
   "source": [
    "...da, da"
   ]
  },
  {
   "cell_type": "markdown",
   "metadata": {},
   "source": [
    "lepota Pandasa! :)"
   ]
  },
  {
   "cell_type": "code",
   "execution_count": null,
   "metadata": {},
   "outputs": [],
   "source": [
    "x = t[\"iznos\"] * t[\"kurs\"]\n",
    "x.sum()\n",
    "round(x.sum(), 2)"
   ]
  },
  {
   "cell_type": "markdown",
   "metadata": {},
   "source": [
    "Samo reč (ili dve o vektorskoj aritmetici!)"
   ]
  },
  {
   "cell_type": "markdown",
   "metadata": {},
   "source": [
    "<hr>"
   ]
  },
  {
   "cell_type": "markdown",
   "metadata": {},
   "source": [
    "### Još malo o školama"
   ]
  },
  {
   "cell_type": "markdown",
   "metadata": {},
   "source": [
    "### .iloc[ ] za pretraživanje tabele po poziciji!"
   ]
  },
  {
   "cell_type": "code",
   "execution_count": null,
   "metadata": {},
   "outputs": [],
   "source": [
    "#poslednjih 10, ali kada je indeks range()\n",
    "t.iloc[-10]"
   ]
  },
  {
   "cell_type": "code",
   "execution_count": null,
   "metadata": {},
   "outputs": [],
   "source": [
    "#Vraća prvu, drugu i treću vrstu\n",
    "t.iloc[[0,1,2]]"
   ]
  },
  {
   "cell_type": "code",
   "execution_count": null,
   "metadata": {},
   "outputs": [],
   "source": [
    "#Vraća prvu, drugu i treću vrstu\n",
    "t.iloc[0:3]"
   ]
  },
  {
   "cell_type": "markdown",
   "metadata": {},
   "source": [
    "### Vežba:"
   ]
  },
  {
   "cell_type": "markdown",
   "metadata": {},
   "source": [
    "<b>Izdvojiti i grafički predstaviti 10 osnovnih škola sa najviše učenika u Srbiji.</b> "
   ]
  },
  {
   "cell_type": "code",
   "execution_count": null,
   "metadata": {},
   "outputs": [],
   "source": [
    "import pandas as pd\n",
    "skole = pd.read_csv(\"skole.csv\")"
   ]
  },
  {
   "cell_type": "code",
   "execution_count": null,
   "metadata": {},
   "outputs": [],
   "source": [
    "skole"
   ]
  },
  {
   "cell_type": "markdown",
   "metadata": {},
   "source": [
    "## Izdvajanje podtabele - .copy()"
   ]
  },
  {
   "cell_type": "markdown",
   "metadata": {},
   "source": [
    "``Број ученика - први разред``\n",
    "\n",
    "``Број ученика - други разред``\n",
    "\n",
    "``Број ученика - трећи разред``\n",
    "\n",
    "``Број ученика - четврти разред``\n",
    "\n",
    "...\n",
    "\n",
    "``Број ученика - осми разред``"
   ]
  },
  {
   "cell_type": "code",
   "execution_count": null,
   "metadata": {},
   "outputs": [],
   "source": [
    "#Generisanje liste stringova\n",
    "l = [\"Округ\", \"Општина\", \"Назив установе\"]\n",
    "# Generisanje još jedne liste stringova \n",
    "razredi = [\"први\", \"други\", \"трећи\", \"четврти\", \"пети\", \"шести\", \"седми\", \"осми\"]\n",
    "#Petljom prolazimo kroz listu\n",
    "for i in razredi:\n",
    "    #Na kraj liste dodajemo novi string \n",
    "    l.append(\"Број ученика -\"+\" \"+i+\" разред\")\n",
    "\n",
    "#Pravimo kopiju dela tabele skole i nayivamo je os\n",
    "os = skole[l].copy()\n",
    "os.head()"
   ]
  },
  {
   "cell_type": "markdown",
   "metadata": {},
   "source": [
    "### Sumiranje:\n",
    "    ili koliko svaka škola ima učenika? \n",
    "    \n",
    "    ili kako sabrati elemente po vrsti?\n",
    "    \n",
    "    ili kako sabrati elemente po vrsti i dodati vrednost sume u poslednju ćeliju?"
   ]
  },
  {
   "cell_type": "code",
   "execution_count": null,
   "metadata": {
    "scrolled": true
   },
   "outputs": [],
   "source": [
    "#ova kolona ne postoji, narednom naredbom je generišemo!\n",
    "os[\"Број ученика\"] = 0.0\n",
    "#Petljom prolazimo kroz elemnte indeksa, a sa .loc() pristupamo vrsti!\n",
    "for i in os.index:\n",
    "    os.loc[i, \"Број ученика\"] = os.loc[i, \"Број ученика - први разред\" : \"Број ученика - осми разред\"].sum()\n",
    "os  "
   ]
  },
  {
   "cell_type": "markdown",
   "metadata": {},
   "source": [
    "### Vežba:"
   ]
  },
  {
   "cell_type": "markdown",
   "metadata": {},
   "source": [
    "<b>Napisati skript koji na kraj tabele os dodaje dve kolone: \"Број ученика - нижи разреди\" i \"Број ученика - виши разреди\" i upisuje odgovarajuće sume u ove kolone!</b>"
   ]
  },
  {
   "cell_type": "markdown",
   "metadata": {},
   "source": [
    "### Filitriranje\n",
    "\n",
    "        ili kako izdvojiti elemente sa određenim svojstvom?"
   ]
  },
  {
   "cell_type": "markdown",
   "metadata": {},
   "source": [
    "Zanima nas samo okrug \"Град Београд\"! Kako ga izdvojiti?"
   ]
  },
  {
   "cell_type": "markdown",
   "metadata": {},
   "source": [
    "Poređenje ``==``"
   ]
  },
  {
   "cell_type": "code",
   "execution_count": null,
   "metadata": {},
   "outputs": [],
   "source": [
    "os[\"Округ\"] == \"Град Београд\""
   ]
  },
  {
   "cell_type": "code",
   "execution_count": null,
   "metadata": {},
   "outputs": [],
   "source": [
    "#indeksiramo vektorom!\n",
    "os[os[\"Округ\"] == \"Град Београд\"]"
   ]
  },
  {
   "cell_type": "code",
   "execution_count": null,
   "metadata": {
    "scrolled": true
   },
   "outputs": [],
   "source": [
    "#Filtriranje po jednom kriterijumu (po jednoj konkretnoj opštini)\n",
    "os[os[\"Округ\"] == \"Град Београд\"]"
   ]
  },
  {
   "cell_type": "markdown",
   "metadata": {},
   "source": [
    "### Sortiranje:\n",
    "\n",
    "        .sort_values(by = \"kriterijum\", ascending = True/False)"
   ]
  },
  {
   "cell_type": "code",
   "execution_count": null,
   "metadata": {},
   "outputs": [],
   "source": [
    "#Sortiranje po broju učenika\n",
    "# Parametar ascending postavljen je na False kako redosled bio od vaćeg ka manjem\n",
    "os[os[\"Округ\"] == \"Град Београд\"].sort_values(by = \"Број ученика\", ascending = False).tail(10)"
   ]
  },
  {
   "cell_type": "markdown",
   "metadata": {},
   "source": [
    "### Vežba"
   ]
  },
  {
   "cell_type": "markdown",
   "metadata": {},
   "source": [
    "<b>Škole koje imaju manje od 480 učenika su škole kojima \"preti\" zatvaranje na osnovu odluke Ministrstva prosvete. Izdvoj iz prethodne tabele one škole koje spadaju u ovu kategoriju.</b>"
   ]
  },
  {
   "cell_type": "code",
   "execution_count": null,
   "metadata": {},
   "outputs": [],
   "source": [
    "t = os[(os[\"Округ\"] == \"Град Београд\") & (os[\"Број ученика\"] < 480.0)].sort_values(by = \"Број ученика\", ascending = False).head(10)"
   ]
  },
  {
   "cell_type": "code",
   "execution_count": null,
   "metadata": {},
   "outputs": [],
   "source": [
    "import matplotlib.pyplot as plt\n",
    "t = t.set_index(\"Назив установе\")\n",
    "plt.barh(t.index,t[\"Број ученика\"])\n",
    "plt.grid()\n",
    "plt.show()"
   ]
  },
  {
   "cell_type": "code",
   "execution_count": null,
   "metadata": {},
   "outputs": [],
   "source": [
    "#t1 = t.sort_values(by='Број ученика')\n",
    "#plt.bar(range(len(t1)),t1['Број ученика']);\n",
    "#plt.xlabel('Škole poređane od najmanje do najveće po broju učenika');\n",
    "#plt.ylabel('Broj učenika u srednjoj školi');\n",
    "#plt.grid()"
   ]
  },
  {
   "cell_type": "code",
   "execution_count": null,
   "metadata": {},
   "outputs": [],
   "source": [
    "#Broj spornih škola koje su pred zatvaranjem.\n",
    "m = os[(os[\"Округ\"] == \"Град Београд\") & (os[\"Број ученика\"] < 480.0)].sort_values(by = \"Број ученика\", ascending = False).shape[0]"
   ]
  },
  {
   "cell_type": "code",
   "execution_count": null,
   "metadata": {},
   "outputs": [],
   "source": [
    "m"
   ]
  },
  {
   "cell_type": "markdown",
   "metadata": {},
   "source": [
    "### Vizuelno predstavljanje podataka i domaći"
   ]
  },
  {
   "cell_type": "markdown",
   "metadata": {},
   "source": [
    "Napraviti radnu svesku u kojoj se iz fajla ``skole.csv`` izdvaja ukupan broj učenika po razredima (od 1 -4.) kao i \n",
    "od (5 - 8.), sortira se broj učenika i prikazuje se!"
   ]
  }
 ],
 "metadata": {
  "kernelspec": {
   "display_name": "Python 3",
   "language": "python",
   "name": "python3"
  },
  "language_info": {
   "codemirror_mode": {
    "name": "ipython",
    "version": 3
   },
   "file_extension": ".py",
   "mimetype": "text/x-python",
   "name": "python",
   "nbconvert_exporter": "python",
   "pygments_lexer": "ipython3",
   "version": "3.6.8"
  }
 },
 "nbformat": 4,
 "nbformat_minor": 4
}
